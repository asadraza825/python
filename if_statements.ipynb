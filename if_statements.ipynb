{
 "cells": [
  {
   "cell_type": "code",
   "execution_count": 4,
   "metadata": {},
   "outputs": [],
   "source": [
    "student1 = \"Willian\"\n",
    "std_uniform1 = \"yes\"\n",
    "student2 = \"Avery\"\n",
    "std_uniform2 = \"no\""
   ]
  },
  {
   "cell_type": "code",
   "execution_count": 5,
   "metadata": {},
   "outputs": [
    {
     "name": "stdout",
     "output_type": "stream",
     "text": [
      "Willian ALLOWED\n"
     ]
    }
   ],
   "source": [
    "if std_uniform1 == \"yes\":\n",
    "    print(student1+\" ALLOWED\")\n",
    "else:\n",
    "    print(student1+\" NOT ALLOWED\")"
   ]
  },
  {
   "cell_type": "code",
   "execution_count": 6,
   "metadata": {},
   "outputs": [
    {
     "name": "stdout",
     "output_type": "stream",
     "text": [
      "Avery NOT ALLOWED\n"
     ]
    }
   ],
   "source": [
    "if std_uniform2 == \"yes\":\n",
    "    print(student2+\" ALLOWED\")\n",
    "else:\n",
    "    print(student2+\" NOT ALLOWED\")"
   ]
  },
  {
   "cell_type": "code",
   "execution_count": 7,
   "metadata": {},
   "outputs": [
    {
     "name": "stdout",
     "output_type": "stream",
     "text": [
      "Mr. asad\n"
     ]
    }
   ],
   "source": [
    "name = \"Asad\"\n",
    "gender = \"m\"\n",
    "if(gender == \"m\"):\n",
    "    prefix = \"Mr.\"\n",
    "else:\n",
    "    prefix = \"Ms.\"\n",
    "\n",
    "print(prefix+\" \"+name)"
   ]
  },
  {
   "cell_type": "code",
   "execution_count": 8,
   "metadata": {},
   "outputs": [
    {
     "name": "stdout",
     "output_type": "stream",
     "text": [
      "Ms. Sophia\n"
     ]
    }
   ],
   "source": [
    "name = \"Sophia\"\n",
    "gender = \"f\"\n",
    "if(gender == \"m\"):\n",
    "    prefix = \"Mr.\"\n",
    "else:\n",
    "    prefix = \"Ms.\"\n",
    "\n",
    "print(prefix+\" \"+name)"
   ]
  },
  {
   "cell_type": "code",
   "execution_count": null,
   "metadata": {},
   "outputs": [],
   "source": []
  }
 ],
 "metadata": {
  "kernelspec": {
   "display_name": "Python 3",
   "language": "python",
   "name": "python3"
  },
  "language_info": {
   "codemirror_mode": {
    "name": "ipython",
    "version": 3
   },
   "file_extension": ".py",
   "mimetype": "text/x-python",
   "name": "python",
   "nbconvert_exporter": "python",
   "pygments_lexer": "ipython3",
   "version": "3.7.6"
  }
 },
 "nbformat": 4,
 "nbformat_minor": 4
}
