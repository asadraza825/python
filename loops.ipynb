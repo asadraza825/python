{
 "cells": [
  {
   "cell_type": "code",
   "execution_count": 2,
   "metadata": {},
   "outputs": [
    {
     "name": "stdout",
     "output_type": "stream",
     "text": [
      "1\n",
      "2\n",
      "3\n",
      "4\n",
      "5\n",
      "6\n",
      "7\n",
      "8\n",
      "9\n",
      "10\n"
     ]
    }
   ],
   "source": [
    "# print number 1 to 10\n",
    "print(1)\n",
    "print(2)\n",
    "print(3)\n",
    "print(4)\n",
    "print(5)\n",
    "print(6)\n",
    "print(7)\n",
    "print(8)\n",
    "print(9)\n",
    "print(10)"
   ]
  },
  {
   "cell_type": "code",
   "execution_count": 9,
   "metadata": {},
   "outputs": [
    {
     "name": "stdout",
     "output_type": "stream",
     "text": [
      "1\n",
      "2\n",
      "3\n",
      "4\n",
      "5\n",
      "6\n",
      "7\n",
      "8\n",
      "9\n",
      "10\n"
     ]
    }
   ],
   "source": [
    "# print number  1 to 10 with For Loop\n",
    "for i in range(1,11):\n",
    "    print(i)"
   ]
  },
  {
   "cell_type": "code",
   "execution_count": 13,
   "metadata": {},
   "outputs": [
    {
     "name": "stdout",
     "output_type": "stream",
     "text": [
      "1\n",
      "2\n",
      "3\n",
      "4\n",
      "5\n",
      "6\n",
      "7\n",
      "8\n",
      "9\n"
     ]
    }
   ],
   "source": [
    "# print number between 1 and 10 with Do While Loop\n",
    "i=1\n",
    "while i<10:\n",
    "    print(i)\n",
    "    i = i+1"
   ]
  },
  {
   "cell_type": "code",
   "execution_count": 22,
   "metadata": {},
   "outputs": [
    {
     "name": "stdout",
     "output_type": "stream",
     "text": [
      "1x2= 2\n",
      "2x2= 4\n",
      "3x2= 6\n",
      "4x2= 8\n",
      "5x2= 10\n",
      "6x2= 12\n",
      "7x2= 14\n",
      "8x2= 16\n",
      "9x2= 18\n",
      "10x2= 20\n"
     ]
    }
   ],
   "source": [
    "# table 2 with for loop\n",
    "for num in range(1,11):\n",
    "    print(str(num)+\"x\"+\"2= \"+str(num*2))"
   ]
  },
  {
   "cell_type": "markdown",
   "metadata": {},
   "source": [
    "# Number Multiplication Table"
   ]
  },
  {
   "cell_type": "code",
   "execution_count": 27,
   "metadata": {},
   "outputs": [
    {
     "name": "stdout",
     "output_type": "stream",
     "text": [
      "Please enter number 5\n",
      "1x5= 5\n",
      "2x5= 10\n",
      "3x5= 15\n",
      "4x5= 20\n",
      "5x5= 25\n",
      "6x5= 30\n",
      "7x5= 35\n",
      "8x5= 40\n",
      "9x5= 45\n",
      "10x5= 50\n"
     ]
    }
   ],
   "source": [
    "# For Loop\n",
    "table_num = int(input(\"Please enter number \"))\n",
    "for num in range(1,11):\n",
    "    print(str(num)+\"x\"+str(table_num)+\"= \"+str(num*table_num))"
   ]
  },
  {
   "cell_type": "code",
   "execution_count": 31,
   "metadata": {},
   "outputs": [
    {
     "name": "stdout",
     "output_type": "stream",
     "text": [
      "Please enter number 8\n",
      "1x8= 8\n",
      "2x8= 16\n",
      "3x8= 24\n",
      "4x8= 32\n",
      "5x8= 40\n",
      "6x8= 48\n",
      "7x8= 56\n",
      "8x8= 64\n",
      "9x8= 72\n",
      "10x8= 80\n"
     ]
    }
   ],
   "source": [
    "# While Loop\n",
    "table_num = int(input(\"Please enter number \"))\n",
    "num = 1\n",
    "while num<=10:\n",
    "    print(str(num)+\"x\"+str(table_num)+\"= \"+str(num*table_num))\n",
    "    num = num+1"
   ]
  },
  {
   "cell_type": "code",
   "execution_count": null,
   "metadata": {},
   "outputs": [],
   "source": []
  },
  {
   "cell_type": "code",
   "execution_count": null,
   "metadata": {},
   "outputs": [],
   "source": []
  }
 ],
 "metadata": {
  "kernelspec": {
   "display_name": "Python 3",
   "language": "python",
   "name": "python3"
  },
  "language_info": {
   "codemirror_mode": {
    "name": "ipython",
    "version": 3
   },
   "file_extension": ".py",
   "mimetype": "text/x-python",
   "name": "python",
   "nbconvert_exporter": "python",
   "pygments_lexer": "ipython3",
   "version": "3.7.6"
  }
 },
 "nbformat": 4,
 "nbformat_minor": 4
}
