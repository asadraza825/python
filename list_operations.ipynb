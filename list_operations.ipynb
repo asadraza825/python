{
 "cells": [
  {
   "cell_type": "markdown",
   "metadata": {},
   "source": [
    "# Adding"
   ]
  },
  {
   "cell_type": "code",
   "execution_count": 60,
   "metadata": {},
   "outputs": [
    {
     "name": "stdout",
     "output_type": "stream",
     "text": [
      "['London', 'Paris', 'Islamabad']\n"
     ]
    }
   ],
   "source": [
    "# adding values in list\n",
    "cities = [\"London\",\"Paris\"]\n",
    "cities.append(\"Islamabad\")\n",
    "print(cities)"
   ]
  },
  {
   "cell_type": "code",
   "execution_count": 61,
   "metadata": {},
   "outputs": [
    {
     "name": "stdout",
     "output_type": "stream",
     "text": [
      "[11]\n",
      "[11, 12, 13, 14, 15]\n"
     ]
    }
   ],
   "source": [
    "# adding multiple values in list\n",
    "numbers = [11]\n",
    "print(numbers)\n",
    "numbers = numbers + [12,13,14,15]\n",
    "print(numbers)"
   ]
  },
  {
   "cell_type": "code",
   "execution_count": 62,
   "metadata": {},
   "outputs": [
    {
     "name": "stdout",
     "output_type": "stream",
     "text": [
      "['John', 'Asad', 'David', 'Winston']\n"
     ]
    }
   ],
   "source": [
    "# adding values in empty list\n",
    "names = []\n",
    "names =  names + [\"John\", \"Asad\", \"David\",\"Winston\"]\n",
    "print(names)"
   ]
  },
  {
   "cell_type": "code",
   "execution_count": 63,
   "metadata": {},
   "outputs": [
    {
     "data": {
      "text/plain": [
       "['Raza', 'John', 'Asad', 'David', 'Winston']"
      ]
     },
     "execution_count": 63,
     "metadata": {},
     "output_type": "execute_result"
    }
   ],
   "source": [
    "# adding value where you want to add with insert function\n",
    "names.insert(0,\"Raza\")\n",
    "names"
   ]
  },
  {
   "cell_type": "code",
   "execution_count": 64,
   "metadata": {},
   "outputs": [
    {
     "data": {
      "text/plain": [
       "['Raza', 'Awais', 'John', 'Asad', 'David', 'Winston']"
      ]
     },
     "execution_count": 64,
     "metadata": {},
     "output_type": "execute_result"
    }
   ],
   "source": [
    "# adding value at position 2\n",
    "names.insert(1,\"Awais\")\n",
    "names"
   ]
  },
  {
   "cell_type": "code",
   "execution_count": 65,
   "metadata": {},
   "outputs": [
    {
     "data": {
      "text/plain": [
       "['Raza', 'Awais', 'John', 'Asad', 'David', 'Avery', 'Winston']"
      ]
     },
     "execution_count": 65,
     "metadata": {},
     "output_type": "execute_result"
    }
   ],
   "source": [
    "# adding value after David\n",
    "names.insert(5,\"Avery\")\n",
    "names"
   ]
  },
  {
   "cell_type": "markdown",
   "metadata": {},
   "source": [
    "# Slicing"
   ]
  },
  {
   "cell_type": "code",
   "execution_count": 66,
   "metadata": {},
   "outputs": [
    {
     "name": "stdout",
     "output_type": "stream",
     "text": [
      "['Raza', 'Awais']\n"
     ]
    }
   ],
   "source": [
    "#  print only two names\n",
    "print(names[0:2])"
   ]
  },
  {
   "cell_type": "code",
   "execution_count": 67,
   "metadata": {},
   "outputs": [
    {
     "name": "stdout",
     "output_type": "stream",
     "text": [
      "Winston\n"
     ]
    }
   ],
   "source": [
    "# print last name\n",
    "print(names[-1])"
   ]
  },
  {
   "cell_type": "code",
   "execution_count": 68,
   "metadata": {},
   "outputs": [
    {
     "name": "stdout",
     "output_type": "stream",
     "text": [
      "['Raza', 'Awais', 'John', 'Asad', 'David']\n"
     ]
    }
   ],
   "source": [
    "# print first 5 names\n",
    "print(names[:5])"
   ]
  },
  {
   "cell_type": "code",
   "execution_count": 69,
   "metadata": {},
   "outputs": [
    {
     "name": "stdout",
     "output_type": "stream",
     "text": [
      "['John', 'Asad', 'David', 'Avery', 'Winston']\n"
     ]
    }
   ],
   "source": [
    "# print values from 3 to last\n",
    "print(names[2:])"
   ]
  },
  {
   "cell_type": "markdown",
   "metadata": {},
   "source": [
    "# Deleting"
   ]
  },
  {
   "cell_type": "code",
   "execution_count": 70,
   "metadata": {},
   "outputs": [
    {
     "name": "stdout",
     "output_type": "stream",
     "text": [
      "List before delete operation\n",
      "['Raza', 'Awais', 'John', 'Asad', 'David', 'Avery', 'Winston']\n",
      "List after delete operation\n"
     ]
    },
    {
     "data": {
      "text/plain": [
       "['Raza', 'Awais', 'Asad', 'David', 'Avery', 'Winston']"
      ]
     },
     "execution_count": 70,
     "metadata": {},
     "output_type": "execute_result"
    }
   ],
   "source": [
    "# delete Third element 'John' of list\n",
    "print(\"List before delete operation\")\n",
    "print(names)\n",
    "del names[2]\n",
    "print(\"List after delete operation\")\n",
    "names"
   ]
  },
  {
   "cell_type": "code",
   "execution_count": 71,
   "metadata": {},
   "outputs": [
    {
     "name": "stdout",
     "output_type": "stream",
     "text": [
      "['Awais', 'Asad', 'David', 'Avery', 'Winston']\n"
     ]
    }
   ],
   "source": [
    "# delete value with remove method\n",
    "names.remove(\"Raza\")\n",
    "print(names)"
   ]
  },
  {
   "cell_type": "markdown",
   "metadata": {},
   "source": [
    "# Popping"
   ]
  },
  {
   "cell_type": "code",
   "execution_count": 72,
   "metadata": {},
   "outputs": [
    {
     "name": "stdout",
     "output_type": "stream",
     "text": [
      "Winston\n"
     ]
    }
   ],
   "source": [
    "# pop fuction by default give last value of list\n",
    "last_value = names.pop()\n",
    "print(last_value)"
   ]
  },
  {
   "cell_type": "code",
   "execution_count": 73,
   "metadata": {},
   "outputs": [
    {
     "name": "stdout",
     "output_type": "stream",
     "text": [
      "Asad\n"
     ]
    }
   ],
   "source": [
    "# pop values from one list to save in other list\n",
    "students = names.pop(1)\n",
    "print(students)"
   ]
  },
  {
   "cell_type": "code",
   "execution_count": null,
   "metadata": {},
   "outputs": [],
   "source": []
  }
 ],
 "metadata": {
  "kernelspec": {
   "display_name": "Python 3",
   "language": "python",
   "name": "python3"
  },
  "language_info": {
   "codemirror_mode": {
    "name": "ipython",
    "version": 3
   },
   "file_extension": ".py",
   "mimetype": "text/x-python",
   "name": "python",
   "nbconvert_exporter": "python",
   "pygments_lexer": "ipython3",
   "version": "3.7.6"
  }
 },
 "nbformat": 4,
 "nbformat_minor": 4
}
